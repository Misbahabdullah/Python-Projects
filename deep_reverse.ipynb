{
 "cells": [
  {
   "cell_type": "markdown",
   "metadata": {},
   "source": [
    " This excercise requires to reverse a list. \n",
    " The only challenge is, if the element is itself a list, it needs to be reversed as well.\n",
    " So as long as the element is not a list, you have to keep repeating. "
   ]
  },
  {
   "cell_type": "code",
   "execution_count": 1,
   "metadata": {},
   "outputs": [],
   "source": [
    "# Function to check if the element is a list or not\n",
    "def is_list(p):\n",
    "    return isinstance(p, list)"
   ]
  },
  {
   "cell_type": "code",
   "execution_count": 2,
   "metadata": {},
   "outputs": [],
   "source": [
    "## The function to perform the reverse\n",
    "\n",
    "def deep_reverse(p):\n",
    "    if is_list(p):\n",
    "        answer=[]\n",
    "\n",
    "        for i in range(len(p)-1,-1,-1):\n",
    "            answer.append(deep_reverse(p[i]))\n",
    "        return answer\n",
    "    else:\n",
    "        return p"
   ]
  },
  {
   "cell_type": "code",
   "execution_count": 3,
   "metadata": {},
   "outputs": [
    {
     "name": "stdout",
     "output_type": "stream",
     "text": [
      "[[[[6, 5], 4], 3, 2], 1]\n",
      "[1, [2, 3, [4, [5, 6]]]]\n",
      "[[6, 5], 4, [3, 2], 1]\n",
      "[1, [2, 3], 4, [5, 6]]\n"
     ]
    }
   ],
   "source": [
    "## Test\n",
    "\n",
    "p = [1, [2, 3, [4, [5, 6]]]]\n",
    "print (deep_reverse(p))\n",
    "#>>> [[[[6, 5], 4], 3, 2], 1]\n",
    "print (p)\n",
    "#>>> [1, [2, 3, [4, [5, 6]]]]\n",
    "\n",
    "q = [1, [2,3], 4, [5,6]]\n",
    "print (deep_reverse(q))\n",
    "#>>> [ [6,5], 4, [3, 2], 1]\n",
    "print (q)\n",
    "#>>> [1, [2,3], 4, [5,6]]"
   ]
  }
 ],
 "metadata": {
  "kernelspec": {
   "display_name": "Python 3",
   "language": "python",
   "name": "python3"
  },
  "language_info": {
   "codemirror_mode": {
    "name": "ipython",
    "version": 3
   },
   "file_extension": ".py",
   "mimetype": "text/x-python",
   "name": "python",
   "nbconvert_exporter": "python",
   "pygments_lexer": "ipython3",
   "version": "3.6.6"
  }
 },
 "nbformat": 4,
 "nbformat_minor": 2
}
